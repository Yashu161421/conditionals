{
 "cells": [
  {
   "cell_type": "code",
   "execution_count": 1,
   "id": "8e949d2a",
   "metadata": {},
   "outputs": [
    {
     "name": "stdout",
     "output_type": "stream",
     "text": [
      "45\n"
     ]
    }
   ],
   "source": [
    "age = input()"
   ]
  },
  {
   "cell_type": "code",
   "execution_count": 2,
   "id": "3c3fa75c",
   "metadata": {},
   "outputs": [
    {
     "data": {
      "text/plain": [
       "'45'"
      ]
     },
     "execution_count": 2,
     "metadata": {},
     "output_type": "execute_result"
    }
   ],
   "source": [
    "age"
   ]
  },
  {
   "cell_type": "code",
   "execution_count": 3,
   "id": "5037448e",
   "metadata": {},
   "outputs": [
    {
     "name": "stdout",
     "output_type": "stream",
     "text": [
      "45\n"
     ]
    }
   ],
   "source": [
    "age = int(input())"
   ]
  },
  {
   "cell_type": "code",
   "execution_count": 4,
   "id": "9b42de7b",
   "metadata": {},
   "outputs": [
    {
     "name": "stdout",
     "output_type": "stream",
     "text": [
      "45\n"
     ]
    }
   ],
   "source": [
    "print(age)"
   ]
  },
  {
   "cell_type": "code",
   "execution_count": 5,
   "id": "307c0c9f",
   "metadata": {},
   "outputs": [
    {
     "name": "stdout",
     "output_type": "stream",
     "text": [
      "18.5\n"
     ]
    }
   ],
   "source": [
    "age = input()"
   ]
  },
  {
   "cell_type": "code",
   "execution_count": 7,
   "id": "a9568d54",
   "metadata": {},
   "outputs": [
    {
     "data": {
      "text/plain": [
       "18.5"
      ]
     },
     "execution_count": 7,
     "metadata": {},
     "output_type": "execute_result"
    }
   ],
   "source": [
    "float(age)"
   ]
  },
  {
   "cell_type": "markdown",
   "id": "7bd16516",
   "metadata": {},
   "source": [
    "# if-else"
   ]
  },
  {
   "cell_type": "code",
   "execution_count": 1,
   "id": "9fcbfdc9",
   "metadata": {},
   "outputs": [
    {
     "name": "stdout",
     "output_type": "stream",
     "text": [
      "23\n",
      "welcome to instagram\n",
      "you are eligible\n"
     ]
    }
   ],
   "source": [
    "age = int(input())\n",
    "if age>18:\n",
    "    print(\"welcome to instagram\")\n",
    "    print(\"you are eligible\")\n",
    "else:\n",
    "    print(\"you are underage\")\n",
    "    print(\"you cannot access instagram\")"
   ]
  },
  {
   "cell_type": "code",
   "execution_count": 2,
   "id": "bd2eed67",
   "metadata": {},
   "outputs": [
    {
     "name": "stdout",
     "output_type": "stream",
     "text": [
      "23\n",
      "you are fail\n",
      "better luck next time\n"
     ]
    }
   ],
   "source": [
    "student_marks = int(input())\n",
    "if student_marks>45:\n",
    "    print(\"you are passed\")\n",
    "    print(\"congratulations\")\n",
    "else:\n",
    "    print(\"you are fail\")\n",
    "    print(\"better luck next time\")\n"
   ]
  },
  {
   "cell_type": "markdown",
   "id": "a8ee7bd7",
   "metadata": {},
   "source": [
    "##write a code that checks whether a number is even or not"
   ]
  },
  {
   "cell_type": "code",
   "execution_count": 6,
   "id": "6fc0357b",
   "metadata": {},
   "outputs": [
    {
     "name": "stdout",
     "output_type": "stream",
     "text": [
      "84\n",
      "it is an even number\n"
     ]
    }
   ],
   "source": [
    "num = int(input())\n",
    "\n",
    "if num%2==0:\n",
    "    print(\"it is an even number\")\n",
    "else:\n",
    "    print(\"it is an odd number\")\n"
   ]
  },
  {
   "cell_type": "code",
   "execution_count": 8,
   "id": "ee7d929b",
   "metadata": {},
   "outputs": [
    {
     "name": "stdout",
     "output_type": "stream",
     "text": [
      "kindely enter the number: 63\n",
      "it is an odd number\n"
     ]
    }
   ],
   "source": [
    "num = int(input(\"kindely enter the number: \"))\n",
    "\n",
    "if num%2==0:\n",
    "    print(\"it is an even number\")\n",
    "else:\n",
    "    print(\"it is an odd number\")\n"
   ]
  },
  {
   "cell_type": "markdown",
   "id": "666e8e76",
   "metadata": {},
   "source": [
    "# if-elif-else"
   ]
  },
  {
   "cell_type": "code",
   "execution_count": 3,
   "id": "f877396a",
   "metadata": {},
   "outputs": [
    {
     "name": "stdout",
     "output_type": "stream",
     "text": [
      "kindly enter the number: 33\n",
      "nice the nyumber is between 30 and 45\n"
     ]
    }
   ],
   "source": [
    "num = int(input(\"kindly enter the number: \"))\n",
    "\n",
    "if num>45:\n",
    "    print(\"awesome the is greater than 45\")\n",
    "elif num>=30 or num<=45:\n",
    "    print(\"nice the nyumber is between 30 and 45\")\n",
    "c:\n",
    "    print(\"poor the number is less than 30\")\n"
   ]
  },
  {
   "cell_type": "code",
   "execution_count": null,
   "id": "d176a223",
   "metadata": {},
   "outputs": [],
   "source": []
  }
 ],
 "metadata": {
  "kernelspec": {
   "display_name": "Python 3 (ipykernel)",
   "language": "python",
   "name": "python3"
  },
  "language_info": {
   "codemirror_mode": {
    "name": "ipython",
    "version": 3
   },
   "file_extension": ".py",
   "mimetype": "text/x-python",
   "name": "python",
   "nbconvert_exporter": "python",
   "pygments_lexer": "ipython3",
   "version": "3.11.3"
  }
 },
 "nbformat": 4,
 "nbformat_minor": 5
}
